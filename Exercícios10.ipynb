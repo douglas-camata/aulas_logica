{
 "cells": [
  {
   "cell_type": "code",
   "execution_count": 5,
   "metadata": {},
   "outputs": [
    {
     "name": "stdout",
     "output_type": "stream",
     "text": [
      "6\n",
      "7\n",
      "-1\n",
      "8\n"
     ]
    }
   ],
   "source": [
    "numero = 5\n",
    "\n",
    "def Contar() :\n",
    "    global numero\n",
    "    #numero += 1\n",
    "    numero = numero + 1\n",
    "    print(numero)\n",
    "\n",
    "def Diminuir() :\n",
    "    numero = 0\n",
    "    numero = numero - 1\n",
    "    print(numero)\n",
    "\n",
    "Contar()\n",
    "Contar()\n",
    "Diminuir()\n",
    "Contar()"
   ]
  },
  {
   "cell_type": "code",
   "execution_count": 8,
   "metadata": {},
   "outputs": [
    {
     "name": "stdout",
     "output_type": "stream",
     "text": [
      "R$ 2500.00 equivale a US$487.33 e $458.72\n"
     ]
    }
   ],
   "source": [
    "dolar = 5.13\n",
    "euro = 5.45\n",
    "\n",
    "def Conversao(real) :\n",
    "    dolar_convertido = real / dolar\n",
    "    euro_convertido = real / euro\n",
    "    print(f'R$ {real:.2f} equivale a US${dolar_convertido:.2f} e ${euro_convertido:.2f}')\n",
    "\n",
    "valor = float(input('Digite o avarlo em R$'))\n",
    "Conversao(valor)"
   ]
  },
  {
   "cell_type": "code",
   "execution_count": 10,
   "metadata": {},
   "outputs": [
    {
     "name": "stdout",
     "output_type": "stream",
     "text": [
      "['Marcos já que eu fiz']\n",
      "['Marcos já que eu fiz', 'Douglas']\n",
      "['Marcos já que eu fiz']\n"
     ]
    }
   ],
   "source": [
    "listaNomes = []\n",
    "\n",
    "def Adicionar(nome) :\n",
    "    listaNomes.append(nome)\n",
    "    print(listaNomes)\n",
    "\n",
    "def Remover(nome) :\n",
    "    listaNomes.remove(nome)\n",
    "    print(listaNomes)\n",
    "\n",
    "Adicionar('Marcos já que eu fiz')\n",
    "Adicionar('Douglas')\n",
    "Remover('Douglas')"
   ]
  },
  {
   "cell_type": "code",
   "execution_count": 13,
   "metadata": {},
   "outputs": [
    {
     "name": "stdout",
     "output_type": "stream",
     "text": [
      "Menu\n",
      "[1] Depositar\n",
      "[2] Sacar\n",
      "[3] Consultar\n",
      "[4] Sair\n",
      "Seu saldo R$ 500.00\n"
     ]
    }
   ],
   "source": [
    "saldo = 0\n",
    "def Depositar(valor) :\n",
    "    global saldo \n",
    "    saldo = saldo + valor\n",
    "    ConsultarSaldo()\n",
    "\n",
    "def Sacar(valor) :\n",
    "    global saldo\n",
    "    saldo = saldo - valor\n",
    "    ConsultarSaldo()\n",
    "\n",
    "def ConsultarSaldo():\n",
    "    print(f'Seu saldo R$ {saldo:.2f}')\n",
    "\n",
    "print('Menu')\n",
    "print('[1] Depositar')\n",
    "print('[2] Sacar')\n",
    "print('[3] Consultar')\n",
    "print('[4] Sair')\n",
    "while True :\n",
    "    opcao = input('Digite a opção do Menu')\n",
    "    if opcao == '1' :\n",
    "        valor = float(input('Digite o valor para depositar:'))\n",
    "        Depositar(valor)\n",
    "    elif opcao == '2' :\n",
    "        valor = float(input('Digite o valor para sacar:'))\n",
    "        Sacar(valor)\n",
    "    elif opcao == '3' :\n",
    "        ConsultarSaldo()\n",
    "    else :\n",
    "        break   \n"
   ]
  },
  {
   "cell_type": "code",
   "execution_count": null,
   "metadata": {},
   "outputs": [],
   "source": [
    "caractere = '#'\n",
    "def desenharForma(l, a) :\n",
    "    for i in range(a) :\n",
    "        print(caractere * l)\n",
    "\n",
    "desenharForma(20,5)"
   ]
  }
 ],
 "metadata": {
  "kernelspec": {
   "display_name": "Python 3",
   "language": "python",
   "name": "python3"
  },
  "language_info": {
   "codemirror_mode": {
    "name": "ipython",
    "version": 3
   },
   "file_extension": ".py",
   "mimetype": "text/x-python",
   "name": "python",
   "nbconvert_exporter": "python",
   "pygments_lexer": "ipython3",
   "version": "3.11.4"
  }
 },
 "nbformat": 4,
 "nbformat_minor": 2
}
