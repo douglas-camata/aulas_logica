{
 "cells": [
  {
   "cell_type": "code",
   "execution_count": 3,
   "metadata": {},
   "outputs": [
    {
     "name": "stdout",
     "output_type": "stream",
     "text": [
      "**************************************************\n",
      "Seja bem-vindo\n",
      "**************************************************\n",
      "Seja bem-vindo\n",
      "**************************************************\n",
      "Seja bem-vindo\n"
     ]
    }
   ],
   "source": [
    "def BoasVindas() :\n",
    "    print('*' * 50)\n",
    "    print('Seja bem-vindo')\n",
    "\n",
    "BoasVindas()\n",
    "BoasVindas()\n",
    "BoasVindas()"
   ]
  },
  {
   "cell_type": "code",
   "execution_count": 5,
   "metadata": {},
   "outputs": [
    {
     "name": "stdout",
     "output_type": "stream",
     "text": [
      "Vermelho\n",
      "Amarelo\n",
      "Azul\n"
     ]
    }
   ],
   "source": [
    "def Cores(lista) :\n",
    "    listaCores = ['Vermelho', 'Amarelo', 'Azul']\n",
    "    for cor in listaCores :\n",
    "        print(cor)\n",
    "        \n",
    "Cores()"
   ]
  },
  {
   "cell_type": "code",
   "execution_count": null,
   "metadata": {},
   "outputs": [],
   "source": [
    "def Tabuada(nr) :\n",
    "    for x in range(11) :\n",
    "        print(f'{nr} x {x} = {nr * x}')\n",
    "\n",
    "Tabuada(3)"
   ]
  },
  {
   "cell_type": "code",
   "execution_count": 12,
   "metadata": {},
   "outputs": [
    {
     "name": "stdout",
     "output_type": "stream",
     "text": [
      "13\n"
     ]
    }
   ],
   "source": [
    "def Calculadora(n1, n2, op) :\n",
    "    if op == '+' :\n",
    "        res = n1 + n2\n",
    "    elif op == '-' :\n",
    "        res = n1 - n2\n",
    "    elif op == '*' :\n",
    "        res = n1 * n2\n",
    "    elif op == '/' :\n",
    "        res = n1 / n2\n",
    "    elif op == '**' :\n",
    "        res = n1 ** n2\n",
    "    else :\n",
    "        res = 'Digite um operador válido'\n",
    "    print(res)\n",
    "\n",
    "Calculadora(6, 7, '+')"
   ]
  },
  {
   "cell_type": "code",
   "execution_count": 126,
   "metadata": {},
   "outputs": [
    {
     "name": "stdout",
     "output_type": "stream",
     "text": [
      "00101000010111101100110110000101100001111011100110\n"
     ]
    }
   ],
   "source": [
    "import random\n",
    "\n",
    "def SenhaAleatoria(tamanho : int) :\n",
    "    listaCaracteres = 'abcdefghijklmnopqrstuwxyzABCDEFGHIJKLMNOPQRSTUVWXYZ0123456789!@#$%&*()_-=+'\n",
    "    senha = ''\n",
    "    for i in range(tamanho) :\n",
    "        senha = senha + random.choice(listaCaracteres)\n",
    "    return(senha)\n",
    "\n",
    "senhaTemp = SenhaAleatoria(50)\n",
    "print(senhaTemp) "
   ]
  }
 ],
 "metadata": {
  "kernelspec": {
   "display_name": "Python 3",
   "language": "python",
   "name": "python3"
  },
  "language_info": {
   "codemirror_mode": {
    "name": "ipython",
    "version": 3
   },
   "file_extension": ".py",
   "mimetype": "text/x-python",
   "name": "python",
   "nbconvert_exporter": "python",
   "pygments_lexer": "ipython3",
   "version": "3.11.4"
  }
 },
 "nbformat": 4,
 "nbformat_minor": 2
}
