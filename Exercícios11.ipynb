{
 "cells": [
  {
   "cell_type": "markdown",
   "metadata": {},
   "source": [
    "1.\tFaça um Programa que mostre a mensagem \"Seja Bem-Vindo ao SESI 😎\" na tela."
   ]
  },
  {
   "cell_type": "code",
   "execution_count": null,
   "metadata": {},
   "outputs": [],
   "source": [
    "print(\"Seja Bem-Vindo ao SESI 😎\")"
   ]
  },
  {
   "cell_type": "markdown",
   "metadata": {},
   "source": [
    "2.\tFaça um Programa que peça um número e então mostre a mensagem “O número informado foi [número]”."
   ]
  },
  {
   "cell_type": "code",
   "execution_count": null,
   "metadata": {},
   "outputs": [],
   "source": [
    "numero = input('Digite um número:')\n",
    "print(f'O número informado foi {numero}')"
   ]
  },
  {
   "cell_type": "markdown",
   "metadata": {},
   "source": [
    "3.\tFaça um programa que receba 2 números inteiros e exiba a divisão entre eles"
   ]
  },
  {
   "cell_type": "code",
   "execution_count": null,
   "metadata": {},
   "outputs": [],
   "source": [
    "n1 = float(input('Digite o divisor: '))\n",
    "n2 = float(input('Digite o dividendo: '))\n",
    "print(f'O resultado de {n2} / {n1} = {n2/n1} ')"
   ]
  },
  {
   "cell_type": "markdown",
   "metadata": {},
   "source": [
    "4.\tFaça um Programa que pergunte quanto você ganha por hora e o número de horas trabalhadas no mês. Calcule e mostre o total do seu salário no referido mês."
   ]
  },
  {
   "cell_type": "code",
   "execution_count": null,
   "metadata": {},
   "outputs": [],
   "source": [
    "valor_hora = float(input('Quanto você ganha por hora?'))\n",
    "horas = int(input('Digite a quantidade de horas trabalhadas:'))\n",
    "print(f'Você receberá R$ {(valor_hora*horas):.2f} no mês')"
   ]
  },
  {
   "cell_type": "markdown",
   "metadata": {},
   "source": [
    "5.\tFaça um Programa que verifique se uma letra digitada é \"F\" ou \"M\". Conforme a letra escrever: F - Feminino, M - Masculino, Sexo Inválido."
   ]
  },
  {
   "cell_type": "code",
   "execution_count": null,
   "metadata": {},
   "outputs": [],
   "source": [
    "sexo = input('Digite o sexo [M/F]:')\n",
    "if sexo == 'F' :\n",
    "    print('Feminino')\n",
    "elif sexo == 'M':\n",
    "    print('Masculino')\n",
    "else :\n",
    "    print('Sexo inválido')"
   ]
  },
  {
   "cell_type": "markdown",
   "metadata": {},
   "source": [
    "6.\tTendo como dado de entrada a altura (h) de uma pessoa e o sexo, construa um algoritmo que calcule seu peso ideal, utilizando as seguintes fórmulas: \n",
    "Para homens: (72.7 * altura) – 58\t\t Para mulheres: (62.1 * altura) - 44.7\n"
   ]
  },
  {
   "cell_type": "code",
   "execution_count": 9,
   "metadata": {},
   "outputs": [
    {
     "name": "stdout",
     "output_type": "stream",
     "text": [
      "Seu peso ideal é: 60.9\n"
     ]
    }
   ],
   "source": [
    "sexo = input('Digite o sexo [M/F]:')\n",
    "altura = float(input('Digite sua altura em m'))\n",
    "if sexo == 'F' :\n",
    "    pesoideal = (62.1 * altura) - 44.7\n",
    "elif sexo == 'M':\n",
    "    pesoideal = (72.7 * altura) - 58\n",
    "else :\n",
    "    print('Sexo inválido')\n",
    "\n",
    "\n",
    "print(f'Seu peso ideal é: {pesoideal:.1f}')"
   ]
  },
  {
   "cell_type": "markdown",
   "metadata": {},
   "source": [
    "7.\tFaça um Programa que pergunte quanto você ganha por hora e o número de horas trabalhadas no mês.\n",
    "Calcule e mostre o total do seu salário no referido mês, sabendo-se que são descontados 11% para o Imposto de Renda, 8% para o INSS e 5% para o sindicato, faça um programa que nos dê: salário bruto. quanto pagou ao INSS. quanto pagou ao sindicato. o salário líquido. calcule os descontos e o salário líquido, conforme a tabela abaixo:\n",
    "+ Salário Bruto : R$\n",
    "- IR (11%) : R$\n",
    "- INSS (8%) : R$\n",
    "- Sindicato ( 5%) : R$\n",
    "= Salário Liquido : R$\n",
    "Obs.: Salário Bruto - Descontos = Salário Líquido.\n"
   ]
  },
  {
   "cell_type": "code",
   "execution_count": 11,
   "metadata": {},
   "outputs": [
    {
     "name": "stdout",
     "output_type": "stream",
     "text": [
      "+ Salário Bruto R$ 10000.0 \n",
      "- IRPF          R$ 1100.0 \n",
      "- INSS          R$ 800.0 \n",
      "- Sindicato     R$ 500.0 \n",
      "= Salário Líq.  R$ 7600.00\n"
     ]
    }
   ],
   "source": [
    "valor_hora = float(input('Quanto você ganha por hora?'))\n",
    "horas = int(input('Digite a quantidade de horas trabalhadas:'))\n",
    "salario_bruto = valor_hora * horas\n",
    "ir = salario_bruto * 0.11\n",
    "inss = salario_bruto * 0.08\n",
    "sindicato = salario_bruto * 0.05\n",
    "salario_liquido = salario_bruto - ir - inss - sindicato\n",
    "\n",
    "print(f'+ Salário Bruto R$ {salario_bruto} ')\n",
    "print(f'- IRPF          R$ {ir} ')\n",
    "print(f'- INSS          R$ {inss} ')\n",
    "print(f'- Sindicato     R$ {sindicato} ')\n",
    "print(f'= Salário Líq.  R$ {salario_liquido:.2f}')"
   ]
  },
  {
   "cell_type": "markdown",
   "metadata": {},
   "source": [
    "8.\tFaça uma função que peça um valor e mostre na tela se o valor é positivo ou negativo."
   ]
  },
  {
   "cell_type": "code",
   "execution_count": null,
   "metadata": {},
   "outputs": [],
   "source": [
    "nr = int(input('Digite um número para saber se é positivo ou negativo'))\n",
    "\n",
    "def PosNeg(nr) :\n",
    "    if nr >= 0 :\n",
    "        print(f'O nr {nr} é positivo')\n",
    "    else :\n",
    "        print(f'O nr {nr} é negativo')\n",
    "\n",
    "PosNeg(nr)"
   ]
  },
  {
   "cell_type": "markdown",
   "metadata": {},
   "source": [
    "9.\tFaça uma função que imprima na tela apenas os números ímpares entre 1 e 50."
   ]
  },
  {
   "cell_type": "code",
   "execution_count": null,
   "metadata": {},
   "outputs": [],
   "source": [
    "def Impares ():\n",
    "    for i in range(50):\n",
    "        if i % 2 == 1 :\n",
    "            print(i)\n",
    "\n",
    "Impares()"
   ]
  },
  {
   "cell_type": "markdown",
   "metadata": {},
   "source": [
    "10.\tFaça uma função que receba dois números inteiros e gere os números inteiros que estão no intervalo compreendido por eles."
   ]
  },
  {
   "cell_type": "code",
   "execution_count": null,
   "metadata": {},
   "outputs": [],
   "source": [
    "ini = int(input('Digite o primeiro nr:'))\n",
    "fim = int(input('Digite o segundo nr:'))\n",
    "\n",
    "def Intervalo(ini, fim) :\n",
    "    for i in range(ini, fim) :\n",
    "        print (i)\n",
    "\n",
    "Intervalo(ini, fim)"
   ]
  },
  {
   "cell_type": "markdown",
   "metadata": {},
   "source": [
    "11.\tFaça uma função que peça um número positivo e em seguida mostre este número invertido. Exemplo: 12376489 => 98467321"
   ]
  },
  {
   "cell_type": "code",
   "execution_count": null,
   "metadata": {},
   "outputs": [],
   "source": [
    "def Inverter(texto):\n",
    "    novo = ''\n",
    "    for letra in texto :\n",
    "        novo = letra + novo\n",
    "    print(f'{texto} -> {novo}')\n",
    "\n",
    "texto = input('Digite um número para inverter')\n",
    "Inverter(texto)"
   ]
  },
  {
   "cell_type": "markdown",
   "metadata": {},
   "source": [
    "12.\tFaça um Programa que leia um vetor A com 5 números inteiros, calcule e mostre a soma dos quadrados dos elementos do vetor."
   ]
  },
  {
   "cell_type": "code",
   "execution_count": 19,
   "metadata": {},
   "outputs": [
    {
     "name": "stdout",
     "output_type": "stream",
     "text": [
      "Resultado 285\n"
     ]
    }
   ],
   "source": [
    "vetorA = [3,5,7,9,11]\n",
    "soma = 0\n",
    "for nr in vetorA :\n",
    "    soma += nr ** 2\n",
    "\n",
    "print(f'Resultado {soma}')"
   ]
  },
  {
   "cell_type": "markdown",
   "metadata": {},
   "source": [
    "13.\tFaça um Programa que leia 8 números inteiros e armazene-os num vetor. Armazene os números pares no vetor PAR e os números IMPARES no vetor impar. Imprima os três vetores."
   ]
  },
  {
   "cell_type": "code",
   "execution_count": null,
   "metadata": {},
   "outputs": [],
   "source": [
    "nrs = []\n",
    "pares = []\n",
    "impares = []\n",
    "\n",
    "for i in range(8):\n",
    "    nr = int(input('Digite um número'))\n",
    "    nrs.append(nr)\n",
    "    if nr % 2 == 0 :\n",
    "        pares.append(nr)\n",
    "    else :\n",
    "        impares.append(nr)\n",
    "\n",
    "print(f'Lista de números {nrs}')\n",
    "print(f'Lista de pares {pares}')\n",
    "print(f'Lista de ímpares {impares}')"
   ]
  },
  {
   "cell_type": "markdown",
   "metadata": {},
   "source": [
    "14.\tNuma eleição existem três candidatos. Faça um programa que peça o número total de eleitores. Peça para cada eleitor votar e ao final mostrar o número de votos de cada candidato."
   ]
  },
  {
   "cell_type": "code",
   "execution_count": null,
   "metadata": {},
   "outputs": [],
   "source": [
    "votos_c1 = 0\n",
    "votos_c2 = 0\n",
    "votos_c3 = 0\n",
    "eleitores = int(input(\"Digite o número de eleitores: \"))\n",
    "for i in range(eleitores):\n",
    "    voto = input(\"Digite o número (1/2/3) do candidato que deseja votar: \")\n",
    "    if voto == \"1\":\n",
    "        votos_c1 += 1\n",
    "    if voto == \"2\":\n",
    "        votos_c2 += 1\n",
    "    if voto == \"3\":\n",
    "        votos_c3 += 1\n",
    "\n",
    "print(f\"Candidato 1: {votos_c1} voto(s)\")\n",
    "print(f\"Candidato 2: {votos_c2} voto(s)\")\n",
    "print(f\"Candidato 3: {votos_c3} voto(s)\")\n",
    "    "
   ]
  },
  {
   "cell_type": "markdown",
   "metadata": {},
   "source": [
    "15.\tFaça um Programa que em uma função receba 4 notas bimestrais e mostre a média."
   ]
  },
  {
   "cell_type": "code",
   "execution_count": null,
   "metadata": {},
   "outputs": [],
   "source": [
    "def Media (n1, n2, n3, n4):\n",
    "    print(f'Média = {(n1 + n2+ n3 + n4) / 4}')\n",
    "\n",
    "Media(8, 9, 6, 5)"
   ]
  },
  {
   "cell_type": "markdown",
   "metadata": {},
   "source": [
    "16.\tFaça um Programa que em uma função receba uma medida em metros e converta retorne o valor convertido para centímetros."
   ]
  },
  {
   "cell_type": "code",
   "execution_count": null,
   "metadata": {},
   "outputs": [],
   "source": [
    "def Converter(m) :\n",
    "    print (f'A medida {m}m é igual a {m*100}cm')\n",
    "\n",
    "Converter(5)"
   ]
  },
  {
   "cell_type": "markdown",
   "metadata": {},
   "source": [
    "17.\tFaça um programa que receba a temperatura média de cada mês do ano e armazene-as em uma lista. Após isto, calcule a média anual das temperaturas e mostre todas as temperaturas acima da média anual, e em que mês elas ocorreram (mostrar o mês por extenso: 1 – Janeiro, 2 – Fevereiro, . . . )."
   ]
  },
  {
   "cell_type": "code",
   "execution_count": null,
   "metadata": {},
   "outputs": [],
   "source": [
    "meses = [\n",
    "    \"janeiro\",\n",
    "    \"fevereiro\",\n",
    "    \"março\",\n",
    "    \"abril\",\n",
    "    \"maio\",\n",
    "    \"junho\",\n",
    "    \"julho\",\n",
    "    \"agosto\",\n",
    "    \"setembro\",\n",
    "    \"outubro\",\n",
    "    \"novembro\",\n",
    "    \"dezembro\",\n",
    "]\n",
    "temperaturas = []\n",
    "for i in range(12):\n",
    "    temperaturas.append(\n",
    "        float(input(f\"Digite a temperatura de {meses[i]} em ºC: \"))\n",
    "    )\n",
    "\n",
    "media = sum(temperaturas) / 12\n",
    "print(f\"\\nA média das temperaturas foi {media:.2f}ºC\")\n",
    "print(\"Meses com temperaturas acima da média: \")\n",
    "for i in range(12):\n",
    "    if temperaturas[i] > media:\n",
    "        print(f\"{i+1} - {meses[i].capitalize()} com {temperaturas[i]:.2f}ºC\")"
   ]
  },
  {
   "cell_type": "markdown",
   "metadata": {},
   "source": [
    "18.\tFaça um programa que receba o valor de uma dívida e mostre uma tabela com os seguintes dados: valor da dívida, valor dos juros, quantidade de parcelas e valor da parcela. Os juros e a quantidade de parcelas seguem a tabela abaixo: "
   ]
  },
  {
   "cell_type": "code",
   "execution_count": 33,
   "metadata": {},
   "outputs": [
    {
     "name": "stdout",
     "output_type": "stream",
     "text": [
      "|Valor dos Juros|Parcela|Valor Parcela\n",
      "|R$ 0.00\t|1\t|R$ 1000.00\n",
      "|R$ 100.00\t|3\t|R$ 366.67\n",
      "|R$ 150.00\t|6\t|R$ 191.67\n",
      "|R$ 200.00\t|9\t|R$ 133.33\n",
      "|R$ 250.00\t|12\t|R$ 104.17\n"
     ]
    }
   ],
   "source": [
    "valor_da_divida = float(input(\"Digite o valor da dívida: \"))\n",
    "parcelas = 1\n",
    "juros = 0\n",
    "print(\"|Valor dos Juros|Parcela|Valor Parcela\")\n",
    "while True:\n",
    "    juros = (5 / 3) * parcelas + 5\n",
    "    if parcelas == 1:\n",
    "        juros = 0\n",
    "\n",
    "    valor_juros = valor_da_divida * (juros / 100)\n",
    "    valor_total = valor_da_divida + valor_juros\n",
    "    valor_parcela = valor_total / parcelas\n",
    "    print(\n",
    "        f\"|R$ {valor_juros:.2f}\\t\"\n",
    "        f\"|{parcelas}\\t\"\n",
    "        f\"|R$ {valor_parcela:.2f}\"\n",
    "    )\n",
    "    if parcelas == 1:\n",
    "        parcelas -= 1\n",
    "    parcelas += 3\n",
    "    if parcelas > 12:\n",
    "        break"
   ]
  }
 ],
 "metadata": {
  "kernelspec": {
   "display_name": "Python 3",
   "language": "python",
   "name": "python3"
  },
  "language_info": {
   "codemirror_mode": {
    "name": "ipython",
    "version": 3
   },
   "file_extension": ".py",
   "mimetype": "text/x-python",
   "name": "python",
   "nbconvert_exporter": "python",
   "pygments_lexer": "ipython3",
   "version": "3.11.4"
  }
 },
 "nbformat": 4,
 "nbformat_minor": 2
}
