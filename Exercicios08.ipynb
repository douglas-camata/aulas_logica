{
 "cells": [
  {
   "cell_type": "markdown",
   "metadata": {},
   "source": [
    ">Crie uma lista com os números de 1 a 10 e imprima cada número.\n"
   ]
  },
  {
   "cell_type": "code",
   "execution_count": null,
   "metadata": {},
   "outputs": [],
   "source": [
    "listaNrs = [1, 2, 3, 4, 5, 6, 7, 8, 9, 10]\n",
    "for numero in listaNrs :\n",
    "    print(numero)"
   ]
  },
  {
   "cell_type": "code",
   "execution_count": null,
   "metadata": {},
   "outputs": [],
   "source": [
    "listaAmigos = ['Fabiano', 'Rafael', 'Cleyton']\n",
    "for amigo in listaAmigos :\n",
    "    print(amigo)   "
   ]
  },
  {
   "cell_type": "code",
   "execution_count": null,
   "metadata": {},
   "outputs": [],
   "source": [
    "listaMeses = ['janeiro', 'fevereiro', 'março', 'abril', 'maio', 'junho', 'julho', 'agosto', 'setembro', 'outubro', 'novembro', 'dezembro']\n",
    "for mes in listaMeses :\n",
    "    if mes[0] == 'j':\n",
    "        print(mes)"
   ]
  },
  {
   "cell_type": "code",
   "execution_count": null,
   "metadata": {},
   "outputs": [],
   "source": [
    "listaAnimais = ['gato', 'cachorro', 'pássaro', 'peixe']\n",
    "for animal in listaAnimais :\n",
    "    print(animal.upper())"
   ]
  },
  {
   "cell_type": "code",
   "execution_count": null,
   "metadata": {},
   "outputs": [],
   "source": [
    "listaNrs = [10, 2, 43, 54, 25]\n",
    "for nr in listaNrs :\n",
    "    dobro = nr * 2\n",
    "    print(nr, dobro)"
   ]
  },
  {
   "cell_type": "code",
   "execution_count": null,
   "metadata": {},
   "outputs": [],
   "source": [
    "listaNrs = [10, 2, 43, 54, 25, 100, 304, 1, 64, 55]\n",
    "menorNr = 1000000000\n",
    "maiorNr = 0\n",
    "for nrAtual in listaNrs :\n",
    "    if nrAtual > maiorNr :\n",
    "        maiorNr = nrAtual\n",
    "    if nrAtual < menorNr :\n",
    "        menorNr = nrAtual\n",
    "\n",
    "print(menorNr, maiorNr)\n",
    "\n",
    "#Utilizando as funções prontas do Python\n",
    "print(max(listaNrs))\n",
    "print(min(listaNrs))"
   ]
  },
  {
   "cell_type": "markdown",
   "metadata": {},
   "source": [
    ">Receba uma palavra do usuário e calcule quantas vogais há nesta palavra."
   ]
  },
  {
   "cell_type": "code",
   "execution_count": 43,
   "metadata": {},
   "outputs": [
    {
     "name": "stdout",
     "output_type": "stream",
     "text": [
      "A palavra OTORRINOLARINGOLOGISTA tem 10 vogais\n"
     ]
    }
   ],
   "source": [
    "palavra = input('Digite uma palavra')\n",
    "qtdeVogais = 0\n",
    "for letra in palavra :\n",
    "    if letra.lower() in 'aieouáâãôó' :\n",
    "        qtdeVogais = qtdeVogais + 1\n",
    "\n",
    "print(f'A palavra {palavra} tem {qtdeVogais} vogais')\n"
   ]
  },
  {
   "cell_type": "code",
   "execution_count": null,
   "metadata": {},
   "outputs": [],
   "source": [
    "nome = 'Ricardo'\n",
    "#nome = ['R', 'i', 'c', 'a', 'r', 'd', 'o']\n",
    "for letra in nome:\n",
    "    print(letra)"
   ]
  },
  {
   "cell_type": "code",
   "execution_count": 52,
   "metadata": {},
   "outputs": [
    {
     "name": "stdout",
     "output_type": "stream",
     "text": [
      "17179869184\n"
     ]
    }
   ],
   "source": [
    "print ( 16384 * 1048576)"
   ]
  }
 ],
 "metadata": {
  "kernelspec": {
   "display_name": "Python 3",
   "language": "python",
   "name": "python3"
  },
  "language_info": {
   "codemirror_mode": {
    "name": "ipython",
    "version": 3
   },
   "file_extension": ".py",
   "mimetype": "text/x-python",
   "name": "python",
   "nbconvert_exporter": "python",
   "pygments_lexer": "ipython3",
   "version": "3.11.4"
  }
 },
 "nbformat": 4,
 "nbformat_minor": 2
}
