{
 "cells": [
  {
   "cell_type": "markdown",
   "metadata": {},
   "source": [
    "Crie uma lista de filmes com 7 filmes a sua escolha, e faça as seguintes operações com ela:\n",
    "• Exiba apenas o primeiro o filme da lista\n",
    "• Exiba o filme da posição 4\n",
    "• Substitua o filme da última posição e exiba a lista\n",
    "• Insira um novo filme no final da lista e exiba a lista\n",
    "• Insira um novo filme na posição 5 e exiba a lista\n",
    "• Exclua o primeiro filme e exiba a lista\n",
    "• Exclua o último filme e exiba a lista\n",
    "• Exiba os 3 primeiros filmes da lista\n",
    "• Exiba os 4 últimos filmes da lista\n",
    "• Exiba a quantidade de filmes atualmente na lista\n",
    "• Ordene os filmes em ordem decrescente e exiba-os"
   ]
  },
  {
   "cell_type": "code",
   "execution_count": null,
   "metadata": {},
   "outputs": [],
   "source": [
    "filmes= ['titanic', 'Exterminador do Futuro' , 'Homem Aranha 1' , 'Creed 1', 'Creed 2', 'Creed 3' , 'Star Wars']\n",
    "print(filmes [0])\n",
    "print(filmes [3])\n",
    "filmes.insert(6, 'carros')\n",
    "print(filmes)\n",
    "filmes.append ('A espera de um milagre')\n",
    "print(filmes)\n",
    "filmes.insert(4,'Até o ultimo Homem')\n",
    "print(filmes)\n",
    "del filmes [0]\n",
    "print(filmes)\n",
    "del filmes [8]\n",
    "print(filmes)\n",
    "print(filmes[0:3])\n",
    "print(filmes[3:])\n",
    "print(len(filmes))\n",
    "filmes.reverse()\n",
    "print(filmes)\n"
   ]
  },
  {
   "cell_type": "markdown",
   "metadata": {},
   "source": [
    "Crie uma lista com os 20 times do campeonato brasileiro de futebol\n",
    "• Exiba o primeiro time da lista como campeão\n",
    "• Exiba os 4 primeiros times como que irão jogar a libertadores\n",
    "• Exiba os 4 últimos times como os que estão rebaixados para a série B"
   ]
  },
  {
   "cell_type": "code",
   "execution_count": null,
   "metadata": {},
   "outputs": [],
   "source": [
    "times = ['São Paulo', 'Palmeiras', 'Flamengo', 'Gremio', 'Atlético MG', 'Botafogo', 'Bragantino', 'Fluminense', 'Atlético PR', 'Internacional', 'Fortaleza', 'Cuiabá', 'Cruzeiro', 'Vasco','Bahia','Goiás',  'Santos','Corinthians', 'América MG', 'Coritiba']\n",
    "print(f'o Campeão é {times[0]}')\n",
    "print(f'Os times que disputarão a libertadores serão {times[0:4]}')\n",
    "print(f'Os times rebaixados para a série B são {times[16:]}')\n"
   ]
  },
  {
   "cell_type": "markdown",
   "metadata": {},
   "source": [
    "Crie um programa que receba do usuário através do input 6 comidas e refaça todos\n",
    "os itens do exercício 1"
   ]
  },
  {
   "cell_type": "code",
   "execution_count": null,
   "metadata": {},
   "outputs": [],
   "source": [
    "comidas = []\n",
    "for x in range(1,7):\n",
    "    comida = input('Digite o nome da comida que desejar: ')\n",
    "    comidas.append(comida)\n",
    "\n",
    "print(comidas[0])\n",
    "print(comidas[3])\n",
    "comidas.insert(6, 'macarrão')\n",
    "print(comidas)\n",
    "comidas.append ('carne de porco')\n",
    "print(comidas)\n",
    "comidas.insert(4, 'Jiló')\n",
    "print(comidas)\n",
    "del comidas[0]\n",
    "print(comidas)\n",
    "del comidas[7]\n",
    "print(comidas)\n",
    "print(comidas[0:3])\n",
    "print(comidas[3:])\n",
    "print(len(comidas))\n",
    "comidas.reverse()\n",
    "print(comida)\n"
   ]
  }
 ],
 "metadata": {
  "language_info": {
   "name": "python"
  }
 },
 "nbformat": 4,
 "nbformat_minor": 2
}
