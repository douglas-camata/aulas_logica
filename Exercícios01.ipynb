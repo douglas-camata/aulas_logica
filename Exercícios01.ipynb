{
 "cells": [
  {
   "cell_type": "markdown",
   "metadata": {},
   "source": [
    "00 - Faça um programa que leia algo pelo teclado e mostre na\n",
    "tela o seu tipo primitivo.\n"
   ]
  },
  {
   "cell_type": "code",
   "execution_count": 5,
   "metadata": {},
   "outputs": [
    {
     "name": "stdout",
     "output_type": "stream",
     "text": [
      "<class 'bool'>\n"
     ]
    }
   ],
   "source": [
    "valor = input('Digite qualquer coisa:')\n",
    "print(type(valor))"
   ]
  },
  {
   "cell_type": "markdown",
   "metadata": {},
   "source": [
    "01 - Crie um programa que leia dois números e mostre a soma\n",
    "entre eles."
   ]
  },
  {
   "cell_type": "code",
   "execution_count": null,
   "metadata": {},
   "outputs": [],
   "source": [
    "numero1 = float(input('Digite o primeiro número:'))\n",
    "numero2 = float(input('Digite o segundo número:'))\n",
    "soma = numero1 + numero2\n",
    "print(f'O resultado é : {soma}')\n",
    "#print(f'O resultado é : {numero1 + numero2}')"
   ]
  },
  {
   "cell_type": "markdown",
   "metadata": {},
   "source": [
    "02 - Crie um programa que leia um número inteiro e mostre na\n",
    "tela o seu sucessor e antecessor."
   ]
  },
  {
   "cell_type": "code",
   "execution_count": null,
   "metadata": {},
   "outputs": [],
   "source": [
    "numero = int(input('Digite um número inteiro:'))\n",
    "antecessor = numero - 1\n",
    "sucessor = numero + 1\n",
    "print (f' O antecessor de {numero} é {antecessor} ')\n",
    "print (f' O sucessor de {numero} é {sucessor} ')"
   ]
  },
  {
   "cell_type": "markdown",
   "metadata": {},
   "source": [
    "03 - Crie um programa que leia um número e mostre o seu\n",
    "dobro, triplo e raiz quadrada."
   ]
  },
  {
   "cell_type": "code",
   "execution_count": 10,
   "metadata": {},
   "outputs": [
    {
     "name": "stdout",
     "output_type": "stream",
     "text": [
      "Seu número é 25.0, o dobro é 50.0, o triplo é 75.0 e a raiz é 5.0 \n"
     ]
    }
   ],
   "source": [
    "numero = float(input('Digite um número:'))\n",
    "dobro = numero * 2\n",
    "triplo = numero * 3\n",
    "raiz = numero ** 0.5\n",
    "print(f'Seu número é {numero}, o dobro é {dobro}, o triplo é {triplo} e a raiz é {raiz} ')\n"
   ]
  },
  {
   "cell_type": "markdown",
   "metadata": {},
   "source": [
    "04 - Crie um programa que leia duas notas de um aluno, calcule\n",
    "e mostre sua média."
   ]
  },
  {
   "cell_type": "code",
   "execution_count": null,
   "metadata": {},
   "outputs": [],
   "source": [
    "nota1 = float(input('Digite a nota 1:'))\n",
    "nota2 = float(input('Digite a nota 12:'))\n",
    "media = (nota1 + nota2) / 2\n",
    "print (media)"
   ]
  },
  {
   "cell_type": "markdown",
   "metadata": {},
   "source": [
    "05 - Crie um programa que leia o valor em metros e o exiba\n",
    "convertido em centímetros e milímetros."
   ]
  },
  {
   "cell_type": "code",
   "execution_count": null,
   "metadata": {},
   "outputs": [],
   "source": [
    "metro = float(input('Insira uma medida em metros:'))\n",
    "mm = metro * 1000\n",
    "cm = metro * 100\n",
    "print(f'{metro}m é igual a {cm}cm e {mm}mm')\n",
    "print(metro, 'm é igual a ', cm, 'cm e ', mm, 'mm')"
   ]
  },
  {
   "cell_type": "markdown",
   "metadata": {},
   "source": [
    "06 - Crie um programa que leia um numero qualquer e mostre\n",
    "na tela a sua tabuada."
   ]
  },
  {
   "cell_type": "code",
   "execution_count": null,
   "metadata": {},
   "outputs": [],
   "source": [
    "nr = float(input('Digite um nr real para calcular a tabuada:'))\n",
    "print(f'Tabuada do {nr}')\n",
    "print(f'{nr} x 1 = {nr*1}')\n",
    "print(f'{nr} x 2 = {nr*2}')\n",
    "print(f'{nr} x 3 = {nr*3}')\n",
    "print(f'{nr} x 4 = {nr*4}')\n",
    "print(f'{nr} x 5 = {nr*5}')\n",
    "print(f'{nr} x 6 = {nr*6}')\n",
    "print(f'{nr} x 7 = {nr*7}')\n",
    "print(f'{nr} x 8 = {nr*8}')\n",
    "print(f'{nr} x 9 = {nr*9}')\n",
    "print(f'{nr} x 10 = {nr*10}')"
   ]
  },
  {
   "cell_type": "markdown",
   "metadata": {},
   "source": [
    "07 - Crie um programa que leia quanto dinheiro a pessoa tem na\n",
    "carteira e mostre quantos dólares ela pode contar."
   ]
  },
  {
   "cell_type": "code",
   "execution_count": 26,
   "metadata": {},
   "outputs": [
    {
     "name": "stdout",
     "output_type": "stream",
     "text": [
      "Você tem $0.60\n"
     ]
    }
   ],
   "source": [
    "real = float(input('Digite o valor em R$'))\n",
    "dolar = real / 4.99\n",
    "print(f'Você tem ${dolar:.2f}')"
   ]
  },
  {
   "cell_type": "markdown",
   "metadata": {},
   "source": [
    "08 - Crie um programa que leia a largura e a altura de uma\n",
    "parede em metros, calcule a sua área e a quantidade de tinta\n",
    "necessária para pintá-lo, sabendo que cada litro de tinta pinta\n",
    "uma área de 2m2."
   ]
  },
  {
   "cell_type": "code",
   "execution_count": 28,
   "metadata": {},
   "outputs": [
    {
     "name": "stdout",
     "output_type": "stream",
     "text": [
      "Para pintar uma área de 12.0m², preciso de 6.0l\n"
     ]
    }
   ],
   "source": [
    "altura = float(input('Digite a altura'))\n",
    "largura = float(input('Digite a largura'))\n",
    "area = altura * largura\n",
    "litros = area / 2\n",
    "print(f'Para pintar uma área de {area}m², preciso de {litros}l')"
   ]
  },
  {
   "cell_type": "markdown",
   "metadata": {},
   "source": [
    "09 - Faça um algoritmo que leia o preço do produto e mostre\n",
    "seu novo preço com 5% de desconto."
   ]
  },
  {
   "cell_type": "code",
   "execution_count": 30,
   "metadata": {},
   "outputs": [
    {
     "name": "stdout",
     "output_type": "stream",
     "text": [
      "5.0\n"
     ]
    }
   ],
   "source": [
    "valor = float(input('Digite o valor:'))\n",
    "desconto = valor * 5 / 100\n",
    "valor = valor - desconto\n",
    "print(valor)"
   ]
  },
  {
   "cell_type": "markdown",
   "metadata": {},
   "source": [
    "10 - Faça um algoritmo que leia o salário do funcionário e\n",
    "mostre seu novo salário com 15% de aumento."
   ]
  },
  {
   "cell_type": "code",
   "execution_count": 34,
   "metadata": {},
   "outputs": [
    {
     "name": "stdout",
     "output_type": "stream",
     "text": [
      "1150.0\n"
     ]
    }
   ],
   "source": [
    "salario = float(input('Digite o salario:'))\n",
    "aumento = (salario / 100) * 15\n",
    "salario = salario + aumento\n",
    "print(salario)"
   ]
  },
  {
   "cell_type": "markdown",
   "metadata": {},
   "source": [
    "11 - Faça um algoritmo que receba um valor em graus Celsius e\n",
    "converta para farenheit."
   ]
  },
  {
   "cell_type": "code",
   "execution_count": 35,
   "metadata": {},
   "outputs": [
    {
     "name": "stdout",
     "output_type": "stream",
     "text": [
      "35.0ºC é igual a 95.0ºF\n"
     ]
    }
   ],
   "source": [
    "graus = float(input('Digite a temperadura em ºC'))\n",
    "valor = graus * 1.8 + 32\n",
    "print(f'{graus}ºC é igual a {valor}ºF')"
   ]
  },
  {
   "cell_type": "markdown",
   "metadata": {},
   "source": [
    "12 - Faça um algoritmo que pergunte a quantidade de km\n",
    "percorridos por um carro alugado e a quantidade de dias pelos\n",
    "quais ele foi alugado. Calcule o preço a pagar, sabendo que o\n",
    "carro custa R$60 por dia e R$0.15 por km rodado."
   ]
  },
  {
   "cell_type": "code",
   "execution_count": 37,
   "metadata": {},
   "outputs": [
    {
     "name": "stdout",
     "output_type": "stream",
     "text": [
      "O valor total será de R$ 127.5\n"
     ]
    }
   ],
   "source": [
    "km_percorrido = float(input('Digite o km percorrido:'))\n",
    "dias = int(input('Digite a quantidade de dias:'))\n",
    "pagar = (60 * dias) + (0.15 * km_percorrido)\n",
    "print (f'O valor total será de R$ {pagar:.2f}')\n"
   ]
  }
 ],
 "metadata": {
  "kernelspec": {
   "display_name": "Python 3",
   "language": "python",
   "name": "python3"
  },
  "language_info": {
   "codemirror_mode": {
    "name": "ipython",
    "version": 3
   },
   "file_extension": ".py",
   "mimetype": "text/x-python",
   "name": "python",
   "nbconvert_exporter": "python",
   "pygments_lexer": "ipython3",
   "version": "3.11.4"
  }
 },
 "nbformat": 4,
 "nbformat_minor": 2
}
