{
 "cells": [
  {
   "cell_type": "code",
   "execution_count": null,
   "metadata": {},
   "outputs": [],
   "source": [
    "for x in range(40) :\n",
    "    if x % 2 == 1 :\n",
    "        print(f'O numero {x} é ímpar')"
   ]
  },
  {
   "cell_type": "code",
   "execution_count": null,
   "metadata": {},
   "outputs": [],
   "source": [
    "import random\n",
    "\n",
    "for x in range(6):\n",
    "    nr = random.randint(1,60)\n",
    "    print(nr)"
   ]
  },
  {
   "cell_type": "code",
   "execution_count": null,
   "metadata": {},
   "outputs": [],
   "source": [
    "soma = 0\n",
    "par = 0\n",
    "impar = 0\n",
    "for nr in range(5) :\n",
    "    nr = int(input('Dige um nr: '))\n",
    "    soma = soma + nr\n",
    "    if nr % 2 == 0 :\n",
    "        par = par + 1\n",
    "    else :\n",
    "        impar = impar + 1\n",
    "print (f'A soma total é {soma}, você digitou {par} pares e {impar} ímpares')"
   ]
  },
  {
   "cell_type": "code",
   "execution_count": null,
   "metadata": {},
   "outputs": [],
   "source": [
    "inicio = int(input('Digite o valor inicial'))\n",
    "fim = int(input('Digite o valor final'))\n",
    "passo = int(input('Digite o passo'))\n",
    "for x in range(inicio, fim, passo):\n",
    "    print(x)"
   ]
  },
  {
   "cell_type": "code",
   "execution_count": null,
   "metadata": {},
   "outputs": [],
   "source": [
    "soma_mulheres = 0\n",
    "soma_homens = 0\n",
    "qtde_mulheres = 0\n",
    "qtde_homens = 0\n",
    "for x in range(5) :\n",
    "    idade = int(input('Digite a idade: '))\n",
    "    sexo = input('Digite o sexo: [F/M]')\n",
    "    if sexo == 'F':\n",
    "        soma_mulheres = soma_mulheres + idade\n",
    "        qtde_mulheres = qtde_mulheres + 1\n",
    "    else :\n",
    "        soma_homens = soma_homens + idade\n",
    "        qtde_homens = qtde_homens + 1\n",
    "print(f'Média das mulheres {soma_mulheres / qtde_mulheres} ')\n",
    "print(f'Média dos homens {soma_homens / qtde_homens} ')"
   ]
  },
  {
   "cell_type": "code",
   "execution_count": null,
   "metadata": {},
   "outputs": [],
   "source": [
    "soma_mulheres = 0\n",
    "soma_homens = 0\n",
    "qtde_mulheres = 0\n",
    "qtde_homens = 0\n",
    "for x in range(5) :\n",
    "    idade = int(input('Digite a idade: '))\n",
    "    sexo = input('Digite o sexo: [F/M]')\n",
    "    if sexo == 'F' or sexo == 'f':\n",
    "        soma_mulheres = soma_mulheres + idade\n",
    "        qtde_mulheres = qtde_mulheres + 1\n",
    "    else :\n",
    "        soma_homens = soma_homens + idade\n",
    "        qtde_homens = qtde_homens + 1\n",
    "print(f'Média das mulheres {soma_mulheres / qtde_mulheres} ')\n",
    "print(f'Média dos homens {soma_homens / qtde_homens} ')\n",
    "print(f'Média grupo{(soma_homens+soma_mulheres) / (qtde_homens+qtde_mulheres)} ')"
   ]
  },
  {
   "cell_type": "code",
   "execution_count": null,
   "metadata": {},
   "outputs": [],
   "source": [
    "for nr in range(5,100) :\n",
    "    if nr % 7 == 0 :\n",
    "        print(nr)"
   ]
  },
  {
   "cell_type": "code",
   "execution_count": null,
   "metadata": {},
   "outputs": [
    {
     "ename": "",
     "evalue": "",
     "output_type": "error",
     "traceback": [
      "\u001b[1;31mThe Kernel crashed while executing code in the current cell or a previous cell. \n",
      "\u001b[1;31mPlease review the code in the cell(s) to identify a possible cause of the failure. \n",
      "\u001b[1;31mClick <a href='https://aka.ms/vscodeJupyterKernelCrash'>here</a> for more info. \n",
      "\u001b[1;31mView Jupyter <a href='command:jupyter.viewOutput'>log</a> for further details."
     ]
    }
   ],
   "source": [
    "palavra = input('Digite uma palavra:')\n",
    "nova_palavra = ''\n",
    "for letra in palavra :\n",
    "    nova_palavra = letra + nova_palavra\n",
    "\n",
    "print(nova_palavra)"
   ]
  }
 ],
 "metadata": {
  "kernelspec": {
   "display_name": "Python 3",
   "language": "python",
   "name": "python3"
  },
  "language_info": {
   "codemirror_mode": {
    "name": "ipython",
    "version": 3
   },
   "file_extension": ".py",
   "mimetype": "text/x-python",
   "name": "python",
   "nbconvert_exporter": "python",
   "pygments_lexer": "ipython3",
   "version": "3.11.4"
  }
 },
 "nbformat": 4,
 "nbformat_minor": 2
}
